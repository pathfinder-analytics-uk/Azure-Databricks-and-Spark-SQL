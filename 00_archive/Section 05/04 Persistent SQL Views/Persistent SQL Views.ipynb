{
 "cells": [
  {
   "cell_type": "markdown",
   "metadata": {
    "application/vnd.databricks.v1+cell": {
     "cellMetadata": {},
     "inputWidgets": {},
     "nuid": "fe6d28c9-e5ad-4e57-9d71-93a8974a79b7",
     "showTitle": false,
     "tableResultSettingsMap": {},
     "title": ""
    }
   },
   "source": [
    "## Persistent SQL Views\n",
    "These are persistent views stored in the metastore (Hive, Unity Catalog, etc.).\n",
    "\n",
    "Rather than physical data, only the view definition saved as metadata in a database. It’s like a SQL view in traditional databases.\n"
   ]
  },
  {
   "cell_type": "markdown",
   "metadata": {
    "application/vnd.databricks.v1+cell": {
     "cellMetadata": {},
     "inputWidgets": {},
     "nuid": "98f73297-ed95-4503-b027-b59b1d531ed7",
     "showTitle": false,
     "tableResultSettingsMap": {},
     "title": ""
    }
   },
   "source": [
    "### Links and Resources\n",
    "- [CREATE VIEW SQL](https://spark.apache.org/docs/latest/sql-ref-syntax-ddl-create-view.html)\n",
    "- [DROP VIEW SQL](https://spark.apache.org/docs/latest/sql-ref-syntax-ddl-drop-view.html)"
   ]
  },
  {
   "cell_type": "code",
   "execution_count": 0,
   "metadata": {
    "application/vnd.databricks.v1+cell": {
     "cellMetadata": {
      "byteLimit": 2048000,
      "rowLimit": 10000
     },
     "inputWidgets": {},
     "nuid": "c433596b-b594-4825-9cfc-606c0878fd88",
     "showTitle": false,
     "tableResultSettingsMap": {},
     "title": ""
    }
   },
   "outputs": [
    {
     "output_type": "stream",
     "name": "stdout",
     "output_type": "stream",
     "text": [
      "+------------+---------+---------------+----------+--------+\n|country_name|continent|     sub_region|population|area_km2|\n+------------+---------+---------------+----------+--------+\n| Afghanistan|     Asia|  Southern Asia|  38928346|  652230|\n|     Albania|   Europe|Southern Europe|   2877797|   28748|\n|     Algeria|   Africa|Northern Africa|  43851044| 2381741|\n|     Andorra|   Europe|Southern Europe|     77265|     468|\n|      Angola|   Africa|  Middle Africa|  32866272| 1246700|\n+------------+---------+---------------+----------+--------+\nonly showing top 5 rows\n\n"
     ]
    }
   ],
   "source": [
    "from pyspark.sql.types import StructType, StructField, StringType, LongType, IntegerType\n",
    "\n",
    "# Refined schema to include 'sub_region'\n",
    "schema = StructType([\n",
    "    StructField(\"country_name\", StringType(), True),\n",
    "    StructField(\"continent\", StringType(), True),\n",
    "    StructField(\"sub_region\", StringType(), True),\n",
    "    StructField(\"population\", LongType(), True),\n",
    "    StructField(\"area_km2\", IntegerType(), True)\n",
    "])\n",
    "\n",
    "# Refactor your data to include 'sub_region' for each country\n",
    "data = [\n",
    "    (\"Afghanistan\", \"Asia\", \"Southern Asia\", 38928346, 652230),\n",
    "    (\"Albania\", \"Europe\", \"Southern Europe\", 2877797, 28748),\n",
    "    (\"Algeria\", \"Africa\", \"Northern Africa\", 43851044, 2381741),\n",
    "    (\"Andorra\", \"Europe\", \"Southern Europe\", 77265, 468),\n",
    "    (\"Angola\", \"Africa\", \"Middle Africa\", 32866272, 1246700),\n",
    "    (\"Antigua and Barbuda\", \"North America\", \"Caribbean\", 97929, 442),\n",
    "    (\"Argentina\", \"South America\", \"South America\", 45376763, 2780400),\n",
    "    (\"Armenia\", \"Asia\", \"Western Asia\", 2963243, 29743),\n",
    "    (\"Australia\", \"Oceania\", \"Australia and New Zealand\", 25649984, 7692024),\n",
    "    (\"Austria\", \"Europe\", \"Western Europe\", 9006398, 83879),\n",
    "    (\"Azerbaijan\", \"Asia\", \"Western Asia\", 10139177, 86600),\n",
    "    (\"Bahamas\", \"North America\", \"Caribbean\", 393244, 13943),\n",
    "    (\"Bahrain\", \"Asia\", \"Western Asia\", 1701575, 765),\n",
    "    (\"Bangladesh\", \"Asia\", \"Southern Asia\", 164689383, 147570),\n",
    "    (\"Barbados\", \"North America\", \"Caribbean\", 287375, 430),\n",
    "    (\"Belarus\", \"Europe\", \"Eastern Europe\", 9449323, 207600),\n",
    "    (\"Belgium\", \"Europe\", \"Western Europe\", 11589623, 30528),\n",
    "    (\"Belize\", \"North America\", \"Central America\", 397621, 22966),\n",
    "    (\"Benin\", \"Africa\", \"Western Africa\", 12123200, 114763),\n",
    "    (\"Bhutan\", \"Asia\", \"Southern Asia\", 771608, 38394),\n",
    "    (\"Bolivia\", \"South America\", \"South America\", 11673021, 1098581),\n",
    "    (\"Bosnia and Herzegovina\", \"Europe\", \"Southern Europe\", 3280819, 51129),\n",
    "    (\"Botswana\", \"Africa\", \"Southern Africa\", 2351627, 581730),\n",
    "    (\"Brazil\", \"South America\", \"South America\", 212559417, 8515767),\n",
    "    (\"Brunei\", \"Asia\", \"South-Eastern Asia\", 437479, 5765),\n",
    "    (\"Bulgaria\", \"Europe\", \"Eastern Europe\", 6948445, 110994),\n",
    "    (\"Burkina Faso\", \"Africa\", \"Western Africa\", 20903273, 274200),\n",
    "    (\"Burundi\", \"Africa\", \"Eastern Africa\", 11890784, 27834),\n",
    "    (\"Cabo Verde\", \"Africa\", \"Western Africa\", 555987, 4033),\n",
    "    (\"Cambodia\", \"Asia\", \"South-Eastern Asia\", 16718965, 181035),\n",
    "    (\"Cameroon\", \"Africa\", \"Middle Africa\", 26545863, 475442),\n",
    "    (\"Canada\", \"North America\", \"Northern America\", 37742154, 9984670),\n",
    "    (\"Central African Republic\", \"Africa\", \"Middle Africa\", 4829767, 622984),\n",
    "    (\"Chad\", \"Africa\", \"Middle Africa\", 16425864, 1284000),\n",
    "    (\"Chile\", \"South America\", \"South America\", 19116201, 756102),\n",
    "    (\"China\", \"Asia\", \"Eastern Asia\", 1439323776, 9596961),\n",
    "    (\"Colombia\", \"South America\", \"South America\", 50882891, 1141748),\n",
    "    (\"Comoros\", \"Africa\", \"Eastern Africa\", 869601, 1862),\n",
    "    (\"Congo, Democratic Republic of the\", \"Africa\", \"Middle Africa\", 89561403, 2344858),\n",
    "    (\"Congo, Republic of the\", \"Africa\", \"Middle Africa\", 5518087, 342000),\n",
    "    (\"Costa Rica\", \"North America\", \"Central America\", 5094118, 51100),\n",
    "    (\"Croatia\", \"Europe\", \"Southern Europe\", 4105267, 56594),\n",
    "    (\"Cuba\", \"North America\", \"Caribbean\", 11326616, 109884),\n",
    "    (\"Côte d'Ivoire\", \"Africa\", \"Western Africa\", 26378274, 322463),\n",
    "    (\"Cyprus\", \"Europe\", \"Western Asia\", 1207359, 9251),\n",
    "    (\"Czech Republic\", \"Europe\", \"Eastern Europe\", 10708981, 78866),\n",
    "    (\"Denmark\", \"Europe\", \"Northern Europe\", 5792202, 42933),\n",
    "    (\"Djibouti\", \"Africa\", \"Eastern Africa\", 988000, 23200),\n",
    "    (\"Dominica\", \"North America\", \"Caribbean\", 71986, 751),\n",
    "    (\"Dominican Republic\", \"North America\", \"Caribbean\", 10847910, 48671),\n",
    "    (\"Ecuador\", \"South America\", \"South America\", 17643054, 283561),\n",
    "    (\"Egypt\", \"Africa\", \"Northern Africa\", 102334404, 1002450),\n",
    "    (\"El Salvador\", \"North America\", \"Central America\", 6486205, 21041),\n",
    "    (\"Equatorial Guinea\", \"Africa\", \"Middle Africa\", 1402985, 28051),\n",
    "    (\"Eritrea\", \"Africa\", \"Eastern Africa\", 3546421, 117600),\n",
    "    (\"Estonia\", \"Europe\", \"Northern Europe\", 1331796, 45227),\n",
    "    (\"Eswatini\", \"Africa\", \"Southern Africa\", 1160164, 17364),\n",
    "    (\"Ethiopia\", \"Africa\", \"Eastern Africa\", 114963588, 1104300),\n",
    "    (\"Fiji\", \"Oceania\", \"Melanesia\", 896444, 18274),\n",
    "    (\"Finland\", \"Europe\", \"Northern Europe\", 5540720, 338424),\n",
    "    (\"France\", \"Europe\", \"Western Europe\", 65273511, 551695),\n",
    "    (\"Gabon\", \"Africa\", \"Middle Africa\", 2225728, 267668),\n",
    "    (\"Gambia\", \"Africa\", \"Western Africa\", 2416668, 11295),\n",
    "    (\"Georgia\", \"Asia\", \"Western Asia\", 3989167, 69700),\n",
    "    (\"Germany\", \"Europe\", \"Western Europe\", 83783942, 357022),\n",
    "    (\"Ghana\", \"Africa\", \"Western Africa\", 31072940, 238533),\n",
    "    (\"Greece\", \"Europe\", \"Southern Europe\", 10423054, 131957),\n",
    "    (\"Grenada\", \"North America\", \"Caribbean\", 112523, 344),\n",
    "    (\"Guatemala\", \"North America\", \"Central America\", 17915568, 108889),\n",
    "    (\"Guinea\", \"Africa\", \"Western Africa\", 13132795, 245857),\n",
    "    (\"Guinea-Bissau\", \"Africa\", \"Western Africa\", 1968001, 36125),\n",
    "    (\"Guyana\", \"South America\", \"South America\", 786552, 214969),\n",
    "    (\"Haiti\", \"North America\", \"Caribbean\", 11402528, 27750),\n",
    "    (\"Holy See\", \"Europe\", \"Southern Europe\", 801, 0),\n",
    "    (\"Honduras\", \"North America\", \"Central America\", 9904607, 112492),\n",
    "    (\"Hungary\", \"Europe\", \"Eastern Europe\", 9660351, 93030),\n",
    "    (\"Iceland\", \"Europe\", \"Northern Europe\", 341243, 103000),\n",
    "    (\"India\", \"Asia\", \"Southern Asia\", 1380004385, 3287263),\n",
    "    (\"Indonesia\", \"Asia\", \"South-Eastern Asia\", 273523615, 1904569),\n",
    "    (\"Iran\", \"Asia\", \"Southern Asia\", 83992949, 1648195),\n",
    "    (\"Iraq\", \"Asia\", \"Western Asia\", 40222493, 438317),\n",
    "    (\"Ireland\", \"Europe\", \"Northern Europe\", 4937786, 70273),\n",
    "    (\"Israel\", \"Asia\", \"Western Asia\", 9053300, 20770),\n",
    "    (\"Italy\", \"Europe\", \"Southern Europe\", 60461826, 301340),\n",
    "    (\"Jamaica\", \"North America\", \"Caribbean\", 2961167, 10991),\n",
    "    (\"Japan\", \"Asia\", \"Eastern Asia\", 126476461, 377975),\n",
    "    (\"Jordan\", \"Asia\", \"Western Asia\", 10203134, 89342),\n",
    "    (\"Kazakhstan\", \"Asia\", \"Central Asia\", 18776707, 2724900),\n",
    "    (\"Kenya\", \"Africa\", \"Eastern Africa\", 53771296, 580367),\n",
    "    (\"Kiribati\", \"Oceania\", \"Micronesia\", 119449, 811),\n",
    "    (\"Kuwait\", \"Asia\", \"Western Asia\", 4270571, 17818),\n",
    "    (\"Kyrgyzstan\", \"Asia\", \"Central Asia\", 6524195, 199951),\n",
    "    (\"Laos\", \"Asia\", \"South-Eastern Asia\", 7275560, 236800),\n",
    "    (\"Latvia\", \"Europe\", \"Northern Europe\", 1886198, 64559),\n",
    "    (\"Lebanon\", \"Asia\", \"Western Asia\", 6825445, 10452),\n",
    "    (\"Lesotho\", \"Africa\", \"Southern Africa\", 2142249, 30355),\n",
    "    (\"Liberia\", \"Africa\", \"Western Africa\", 5073296, 111369),\n",
    "    (\"Libya\", \"Africa\", \"Northern Africa\", 6871292, 1759540),\n",
    "    (\"Liechtenstein\", \"Europe\", \"Western Europe\", 38128, 160),\n",
    "    (\"Lithuania\", \"Europe\", \"Northern Europe\", 2722289, 65300),\n",
    "    (\"Luxembourg\", \"Europe\", \"Western Europe\", 634814, 2586),\n",
    "    (\"Madagascar\", \"Africa\", \"Eastern Africa\", 27691018, 587041),\n",
    "    (\"Malawi\", \"Africa\", \"Eastern Africa\", 19129952, 118484),\n",
    "    (\"Malaysia\", \"Asia\", \"South-Eastern Asia\", 32365999, 330803),\n",
    "    (\"Maldives\", \"Asia\", \"Southern Asia\", 540544, 300),\n",
    "    (\"Mali\", \"Africa\", \"Western Africa\", 20250833, 1240192),\n",
    "    (\"Malta\", \"Europe\", \"Southern Europe\", 441543, 316),\n",
    "    (\"Marshall Islands\", \"Oceania\", \"Micronesia\", 59190, 181),\n",
    "    (\"Mauritania\", \"Africa\", \"Western Africa\", 4649658, 1030700),\n",
    "    (\"Mauritius\", \"Africa\", \"Eastern Africa\", 1271768, 2040),\n",
    "    (\"Mexico\", \"North America\", \"Central America\", 128932753, 1964375),\n",
    "    (\"Micronesia\", \"Oceania\", \"Micronesia\", 115023, 702),\n",
    "    (\"Moldova\", \"Europe\", \"Eastern Europe\", 2640438, 33851),\n",
    "    (\"Monaco\", \"Europe\", \"Western Europe\", 39242, 2),\n",
    "    (\"Mongolia\", \"Asia\", \"Eastern Asia\", 3278290, 1564110),\n",
    "    (\"Montenegro\", \"Europe\", \"Southern Europe\", 622359, 13812),\n",
    "    (\"Morocco\", \"Africa\", \"Northern Africa\", 36910560, 446550),\n",
    "    (\"Mozambique\", \"Africa\", \"Eastern Africa\", 31255435, 801590),\n",
    "    (\"Myanmar\", \"Asia\", \"South-Eastern Asia\", 54409800, 676578),\n",
    "    (\"Namibia\", \"Africa\", \"Southern Africa\", 2540905, 824292),\n",
    "    (\"Nauru\", \"Oceania\", \"Micronesia\", 10824, 21),\n",
    "    (\"Nepal\", \"Asia\", \"Southern Asia\", 29136808, 147181),\n",
    "    (\"Netherlands\", \"Europe\", \"Western Europe\", 17134872, 41543),\n",
    "    (\"New Zealand\", \"Oceania\", \"Australia and New Zealand\", 5084300, 268838),\n",
    "    (\"Nicaragua\", \"North America\", \"Central America\", 6624554, 130373),\n",
    "    (\"Niger\", \"Africa\", \"Western Africa\", 24206644, 1267000),\n",
    "    (\"Nigeria\", \"Africa\", \"Western Africa\", 206139589, 923768),\n",
    "    (\"North Korea\", \"Asia\", \"Eastern Asia\", 25778816, 120538),\n",
    "    (\"North Macedonia\", \"Europe\", \"Southern Europe\", 2083374, 25713),\n",
    "    (\"Norway\", \"Europe\", \"Northern Europe\", 5421241, 385207),\n",
    "    (\"Oman\", \"Asia\", \"Western Asia\", 5106626, 309500),\n",
    "    (\"Pakistan\", \"Asia\", \"Southern Asia\", 220892340, 881913),\n",
    "    (\"Palau\", \"Oceania\", \"Micronesia\", 18094, 459),\n",
    "    (\"Palestine, State of\", \"Asia\", \"Western Asia\", 5101414, 6020),\n",
    "    (\"Panama\", \"North America\", \"Central America\", 4314767, 75417),\n",
    "    (\"Papua New Guinea\", \"Oceania\", \"Melanesia\", 8947024, 462840),\n",
    "    (\"Paraguay\", \"South America\", \"South America\", 7132538, 406752),\n",
    "    (\"Peru\", \"South America\", \"South America\", 32971854, 1285216),\n",
    "    (\"Philippines\", \"Asia\", \"South-Eastern Asia\", 109581078, 300000),\n",
    "    (\"Poland\", \"Europe\", \"Eastern Europe\", 37846611, 312696),\n",
    "    (\"Portugal\", \"Europe\", \"Southern Europe\", 10196709, 92090),\n",
    "    (\"Qatar\", \"Asia\", \"Western Asia\", 2881053, 11586),\n",
    "    (\"Romania\", \"Europe\", \"Eastern Europe\", 19237691, 238391),\n",
    "    (\"Russia\", \"Europe\", \"Eastern Europe\", 144478050, 17098242),\n",
    "    (\"Rwanda\", \"Africa\", \"Eastern Africa\", 12952218, 26338),\n",
    "    (\"Saint Kitts and Nevis\", \"North America\", \"Caribbean\", 53192, 261),\n",
    "    (\"Saint Lucia\", \"North America\", \"Caribbean\", 183627, 616),\n",
    "    (\"Saint Vincent and the Grenadines\", \"North America\", \"Caribbean\", 110940, 389),\n",
    "    (\"Samoa\", \"Oceania\", \"Polynesia\", 198414, 2842),\n",
    "    (\"San Marino\", \"Europe\", \"Southern Europe\", 33938, 61),\n",
    "    (\"Sao Tome and Principe\", \"Africa\", \"Middle Africa\", 219159, 964),\n",
    "    (\"Saudi Arabia\", \"Asia\", \"Western Asia\", 34813871, 2149690),\n",
    "    (\"Senegal\", \"Africa\", \"Western Africa\", 16743927, 196722),\n",
    "    (\"Serbia\", \"Europe\", \"Southern Europe\", 6944975, 88361),\n",
    "    (\"Seychelles\", \"Africa\", \"Eastern Africa\", 98347, 455),\n",
    "    (\"Sierra Leone\", \"Africa\", \"Western Africa\", 7976983, 71740),\n",
    "    (\"Singapore\", \"Asia\", \"South-Eastern Asia\", 5850342, 719),\n",
    "    (\"Slovakia\", \"Europe\", \"Eastern Europe\", 5459642, 49037),\n",
    "    (\"Slovenia\", \"Europe\", \"Southern Europe\", 2078938, 20273),\n",
    "    (\"Solomon Islands\", \"Oceania\", \"Melanesia\", 686884, 28896),\n",
    "    (\"Somalia\", \"Africa\", \"Eastern Africa\", 15893222, 637657),\n",
    "    (\"South Africa\", \"Africa\", \"Southern Africa\", 59308690, 1221037),\n",
    "    (\"South Korea\", \"Asia\", \"Eastern Asia\", 51269185, 100210),\n",
    "    (\"South Sudan\", \"Africa\", \"Eastern Africa\", 11193725, 644329),\n",
    "    (\"Spain\", \"Europe\", \"Southern Europe\", 46754778, 505992),\n",
    "    (\"Sri Lanka\", \"Asia\", \"Southern Asia\", 21413249, 65610),\n",
    "    (\"Sudan\", \"Africa\", \"Northern Africa\", 43849260, 1861484),\n",
    "    (\"Suriname\", \"South America\", \"South America\", 586634, 163820),\n",
    "    (\"Sweden\", \"Europe\", \"Northern Europe\", 10099265, 450295),\n",
    "    (\"Switzerland\", \"Europe\", \"Western Europe\", 8654622, 41285),\n",
    "    (\"Syria\", \"Asia\", \"Western Asia\", 17500657, 185180),\n",
    "    (\"Tajikistan\", \"Asia\", \"Central Asia\", 9537645, 143100),\n",
    "    (\"Tanzania\", \"Africa\", \"Eastern Africa\", 59734218, 945087),\n",
    "    (\"Thailand\", \"Asia\", \"South-Eastern Asia\", 69799978, 513120),\n",
    "    (\"Timor-Leste\", \"Asia\", \"South-Eastern Asia\", 1318445, 14874),\n",
    "    (\"Togo\", \"Africa\", \"Western Africa\", 8278724, 56785),\n",
    "    (\"Tonga\", \"Oceania\", \"Polynesia\", 105695, 747),\n",
    "    (\"Trinidad and Tobago\", \"North America\", \"Caribbean\", 1399488, 5130),\n",
    "    (\"Tunisia\", \"Africa\", \"Northern Africa\", 11818619, 163610),\n",
    "    (\"Turkey\", \"Asia\", \"Western Asia\", 84339067, 783562),\n",
    "    (\"Turkmenistan\", \"Asia\", \"Central Asia\", 6031200, 488100),\n",
    "    (\"Tuvalu\", \"Oceania\", \"Polynesia\", 11792, 26),\n",
    "    (\"Uganda\", \"Africa\", \"Eastern Africa\", 45741007, 241550),\n",
    "    (\"Ukraine\", \"Europe\", \"Eastern Europe\", 43733762, 603628),\n",
    "    (\"United Arab Emirates\", \"Asia\", \"Western Asia\", 9890400, 83600),\n",
    "    (\"United Kingdom\", \"Europe\", \"Northern Europe\", 67886011, 243610),\n",
    "    (\"United States\", \"North America\", \"Northern America\", 331002651, 9833520),\n",
    "    (\"Uruguay\", \"South America\", \"South America\", 3473730, 176215),\n",
    "    (\"Uzbekistan\", \"Asia\", \"Central Asia\", 33469203, 447400),\n",
    "    (\"Vanuatu\", \"Oceania\", \"Melanesia\", 307145, 12189),\n",
    "    (\"Venezuela\", \"South America\", \"South America\", 28435940, 916445),\n",
    "    (\"Vietnam\", \"Asia\", \"South-Eastern Asia\", 97338579, 331212),\n",
    "    (\"Yemen\", \"Asia\", \"Western Asia\", 29825964, 527968),\n",
    "    (\"Zambia\", \"Africa\", \"Eastern Africa\", 18383955, 752612),\n",
    "    (\"Zimbabwe\", \"Africa\", \"Eastern Africa\", 14862924, 390757)\n",
    "]\n",
    "\n",
    "# Create the DataFrame using the new schema (with sub_region)\n",
    "df = spark.createDataFrame(data, schema)\n",
    "\n",
    "# Display the DataFrame\n",
    "df.show(5)"
   ]
  },
  {
   "cell_type": "code",
   "execution_count": 0,
   "metadata": {
    "application/vnd.databricks.v1+cell": {
     "cellMetadata": {
      "byteLimit": 2048000,
      "rowLimit": 10000
     },
     "inputWidgets": {},
     "nuid": "fc34bcfa-a393-4cff-b1b4-60346145fac2",
     "showTitle": false,
     "tableResultSettingsMap": {},
     "title": ""
    }
   },
   "outputs": [],
   "source": [
    "# creating a countries table in the default database\n",
    "df.write.format(\"delta\").saveAsTable(\"hive_metastore.default.countries\")"
   ]
  },
  {
   "cell_type": "code",
   "execution_count": 0,
   "metadata": {
    "application/vnd.databricks.v1+cell": {
     "cellMetadata": {
      "byteLimit": 2048000,
      "implicitDf": true,
      "rowLimit": 10000
     },
     "inputWidgets": {},
     "nuid": "1cff1485-e04e-4291-b831-563f5321d051",
     "showTitle": false,
     "tableResultSettingsMap": {},
     "title": ""
    }
   },
   "outputs": [
    {
     "output_type": "display_data",
     "data": {
      "text/html": [
       "<style scoped>\n",
       "  .table-result-container {\n",
       "    max-height: 300px;\n",
       "    overflow: auto;\n",
       "  }\n",
       "  table, th, td {\n",
       "    border: 1px solid black;\n",
       "    border-collapse: collapse;\n",
       "  }\n",
       "  th, td {\n",
       "    padding: 5px;\n",
       "  }\n",
       "  th {\n",
       "    text-align: left;\n",
       "  }\n",
       "</style><div class='table-result-container'><table class='table-result'><thead style='background-color: white'><tr><th>country_name</th><th>continent</th><th>sub_region</th><th>population</th><th>area_km2</th></tr></thead><tbody><tr><td>China</td><td>Asia</td><td>Eastern Asia</td><td>1439323776</td><td>9596961</td></tr><tr><td>India</td><td>Asia</td><td>Southern Asia</td><td>1380004385</td><td>3287263</td></tr><tr><td>United States</td><td>North America</td><td>Northern America</td><td>331002651</td><td>9833520</td></tr><tr><td>Indonesia</td><td>Asia</td><td>South-Eastern Asia</td><td>273523615</td><td>1904569</td></tr><tr><td>Pakistan</td><td>Asia</td><td>Southern Asia</td><td>220892340</td><td>881913</td></tr><tr><td>Brazil</td><td>South America</td><td>South America</td><td>212559417</td><td>8515767</td></tr><tr><td>Nigeria</td><td>Africa</td><td>Western Africa</td><td>206139589</td><td>923768</td></tr><tr><td>Bangladesh</td><td>Asia</td><td>Southern Asia</td><td>164689383</td><td>147570</td></tr><tr><td>Russia</td><td>Europe</td><td>Eastern Europe</td><td>144478050</td><td>17098242</td></tr><tr><td>Mexico</td><td>North America</td><td>Central America</td><td>128932753</td><td>1964375</td></tr></tbody></table></div>"
      ]
     },
     "metadata": {
      "application/vnd.databricks.v1+output": {
       "addedWidgets": {},
       "aggData": [],
       "aggError": "",
       "aggOverflow": false,
       "aggSchema": [],
       "aggSeriesLimitReached": false,
       "aggType": "",
       "arguments": {},
       "columnCustomDisplayInfos": {},
       "data": [
        [
         "China",
         "Asia",
         "Eastern Asia",
         1439323776,
         9596961
        ],
        [
         "India",
         "Asia",
         "Southern Asia",
         1380004385,
         3287263
        ],
        [
         "United States",
         "North America",
         "Northern America",
         331002651,
         9833520
        ],
        [
         "Indonesia",
         "Asia",
         "South-Eastern Asia",
         273523615,
         1904569
        ],
        [
         "Pakistan",
         "Asia",
         "Southern Asia",
         220892340,
         881913
        ],
        [
         "Brazil",
         "South America",
         "South America",
         212559417,
         8515767
        ],
        [
         "Nigeria",
         "Africa",
         "Western Africa",
         206139589,
         923768
        ],
        [
         "Bangladesh",
         "Asia",
         "Southern Asia",
         164689383,
         147570
        ],
        [
         "Russia",
         "Europe",
         "Eastern Europe",
         144478050,
         17098242
        ],
        [
         "Mexico",
         "North America",
         "Central America",
         128932753,
         1964375
        ]
       ],
       "datasetInfos": [],
       "dbfsResultPath": null,
       "isJsonSchema": true,
       "metadata": {
        "createTempViewForImplicitDf": true,
        "dataframeName": "_sqldf",
        "executionCount": 4
       },
       "overflow": false,
       "plotOptions": {
        "customPlotOptions": {},
        "displayType": "table",
        "pivotAggregation": null,
        "pivotColumns": null,
        "xColumns": null,
        "yColumns": null
       },
       "removedWidgets": [],
       "schema": [
        {
         "metadata": "{}",
         "name": "country_name",
         "type": "\"string\""
        },
        {
         "metadata": "{}",
         "name": "continent",
         "type": "\"string\""
        },
        {
         "metadata": "{}",
         "name": "sub_region",
         "type": "\"string\""
        },
        {
         "metadata": "{}",
         "name": "population",
         "type": "\"long\""
        },
        {
         "metadata": "{}",
         "name": "area_km2",
         "type": "\"integer\""
        }
       ],
       "type": "table"
      }
     },
     "output_type": "display_data"
    }
   ],
   "source": [
    "%sql\n",
    "-- returning the top 10 countries by population\n",
    "select * from hive_metastore.default.countries order by population desc limit 10"
   ]
  },
  {
   "cell_type": "code",
   "execution_count": 0,
   "metadata": {
    "application/vnd.databricks.v1+cell": {
     "cellMetadata": {
      "byteLimit": 2048000,
      "implicitDf": true,
      "rowLimit": 10000
     },
     "inputWidgets": {},
     "nuid": "963e1036-81e2-49f7-9b63-0c848d6a6911",
     "showTitle": false,
     "tableResultSettingsMap": {},
     "title": ""
    }
   },
   "outputs": [
    {
     "output_type": "display_data",
     "data": {
      "text/html": [
       "<style scoped>\n",
       "  .table-result-container {\n",
       "    max-height: 300px;\n",
       "    overflow: auto;\n",
       "  }\n",
       "  table, th, td {\n",
       "    border: 1px solid black;\n",
       "    border-collapse: collapse;\n",
       "  }\n",
       "  th, td {\n",
       "    padding: 5px;\n",
       "  }\n",
       "  th {\n",
       "    text-align: left;\n",
       "  }\n",
       "</style><div class='table-result-container'><table class='table-result'><thead style='background-color: white'><tr></tr></thead><tbody></tbody></table></div>"
      ]
     },
     "metadata": {
      "application/vnd.databricks.v1+output": {
       "addedWidgets": {},
       "aggData": [],
       "aggError": "",
       "aggOverflow": false,
       "aggSchema": [],
       "aggSeriesLimitReached": false,
       "aggType": "",
       "arguments": {},
       "columnCustomDisplayInfos": {},
       "data": [],
       "datasetInfos": [],
       "dbfsResultPath": null,
       "isJsonSchema": true,
       "metadata": {
        "dataframeName": null
       },
       "overflow": false,
       "plotOptions": {
        "customPlotOptions": {},
        "displayType": "table",
        "pivotAggregation": null,
        "pivotColumns": null,
        "xColumns": null,
        "yColumns": null
       },
       "removedWidgets": [],
       "schema": [],
       "type": "table"
      }
     },
     "output_type": "display_data"
    }
   ],
   "source": [
    "%sql\n",
    "-- creating a view that references an SQL query returning the top 10 countries by population\n",
    "CREATE OR REPLACE VIEW hive_metastore.default.top_10_countries\n",
    "AS\n",
    "select * from hive_metastore.default.countries order by population desc limit 10"
   ]
  },
  {
   "cell_type": "code",
   "execution_count": 0,
   "metadata": {
    "application/vnd.databricks.v1+cell": {
     "cellMetadata": {
      "byteLimit": 2048000,
      "implicitDf": true,
      "rowLimit": 10000
     },
     "inputWidgets": {},
     "nuid": "d0d13bdd-1fbb-4b51-aaf4-5456771e75a7",
     "showTitle": false,
     "tableResultSettingsMap": {},
     "title": ""
    }
   },
   "outputs": [
    {
     "output_type": "display_data",
     "data": {
      "text/html": [
       "<style scoped>\n",
       "  .table-result-container {\n",
       "    max-height: 300px;\n",
       "    overflow: auto;\n",
       "  }\n",
       "  table, th, td {\n",
       "    border: 1px solid black;\n",
       "    border-collapse: collapse;\n",
       "  }\n",
       "  th, td {\n",
       "    padding: 5px;\n",
       "  }\n",
       "  th {\n",
       "    text-align: left;\n",
       "  }\n",
       "</style><div class='table-result-container'><table class='table-result'><thead style='background-color: white'><tr><th>col_name</th><th>data_type</th><th>comment</th></tr></thead><tbody><tr><td>country_name</td><td>string</td><td>null</td></tr><tr><td>continent</td><td>string</td><td>null</td></tr><tr><td>sub_region</td><td>string</td><td>null</td></tr><tr><td>population</td><td>bigint</td><td>null</td></tr><tr><td>area_km2</td><td>int</td><td>null</td></tr><tr><td></td><td></td><td></td></tr><tr><td># Detailed Table Information</td><td></td><td></td></tr><tr><td>Catalog</td><td>hive_metastore</td><td></td></tr><tr><td>Database</td><td>default</td><td></td></tr><tr><td>Table</td><td>top_10_countries</td><td></td></tr><tr><td>Owner</td><td>root</td><td></td></tr><tr><td>Created Time</td><td>Sun Mar 23 09:51:12 UTC 2025</td><td></td></tr><tr><td>Last Access</td><td>UNKNOWN</td><td></td></tr><tr><td>Created By</td><td>Spark 3.5.0</td><td></td></tr><tr><td>Type</td><td>VIEW</td><td></td></tr><tr><td>View Text</td><td>select * from hive_metastore.default.countries order by population desc limit 10</td><td></td></tr><tr><td>View Original Text</td><td>select * from hive_metastore.default.countries order by population desc limit 10</td><td></td></tr><tr><td>View Schema Mode</td><td>COMPENSATION</td><td></td></tr><tr><td>View Catalog and Namespace</td><td>spark_catalog.default</td><td></td></tr><tr><td>View Query Output Columns</td><td>[country_name, continent, sub_region, population, area_km2]</td><td></td></tr><tr><td>Table Properties</td><td>[transient_lastDdlTime=1742723472]</td><td></td></tr><tr><td>Serde Library</td><td>org.apache.hadoop.hive.serde2.lazy.LazySimpleSerDe</td><td></td></tr><tr><td>InputFormat</td><td>org.apache.hadoop.mapred.SequenceFileInputFormat</td><td></td></tr><tr><td>OutputFormat</td><td>org.apache.hadoop.hive.ql.io.HiveSequenceFileOutputFormat</td><td></td></tr><tr><td>Storage Properties</td><td>[serialization.format=1]</td><td></td></tr></tbody></table></div>"
      ]
     },
     "metadata": {
      "application/vnd.databricks.v1+output": {
       "addedWidgets": {},
       "aggData": [],
       "aggError": "",
       "aggOverflow": false,
       "aggSchema": [],
       "aggSeriesLimitReached": false,
       "aggType": "",
       "arguments": {},
       "columnCustomDisplayInfos": {},
       "data": [
        [
         "country_name",
         "string",
         null
        ],
        [
         "continent",
         "string",
         null
        ],
        [
         "sub_region",
         "string",
         null
        ],
        [
         "population",
         "bigint",
         null
        ],
        [
         "area_km2",
         "int",
         null
        ],
        [
         "",
         "",
         ""
        ],
        [
         "# Detailed Table Information",
         "",
         ""
        ],
        [
         "Catalog",
         "hive_metastore",
         ""
        ],
        [
         "Database",
         "default",
         ""
        ],
        [
         "Table",
         "top_10_countries",
         ""
        ],
        [
         "Owner",
         "root",
         ""
        ],
        [
         "Created Time",
         "Sun Mar 23 09:51:12 UTC 2025",
         ""
        ],
        [
         "Last Access",
         "UNKNOWN",
         ""
        ],
        [
         "Created By",
         "Spark 3.5.0",
         ""
        ],
        [
         "Type",
         "VIEW",
         ""
        ],
        [
         "View Text",
         "select * from hive_metastore.default.countries order by population desc limit 10",
         ""
        ],
        [
         "View Original Text",
         "select * from hive_metastore.default.countries order by population desc limit 10",
         ""
        ],
        [
         "View Schema Mode",
         "COMPENSATION",
         ""
        ],
        [
         "View Catalog and Namespace",
         "spark_catalog.default",
         ""
        ],
        [
         "View Query Output Columns",
         "[country_name, continent, sub_region, population, area_km2]",
         ""
        ],
        [
         "Table Properties",
         "[transient_lastDdlTime=1742723472]",
         ""
        ],
        [
         "Serde Library",
         "org.apache.hadoop.hive.serde2.lazy.LazySimpleSerDe",
         ""
        ],
        [
         "InputFormat",
         "org.apache.hadoop.mapred.SequenceFileInputFormat",
         ""
        ],
        [
         "OutputFormat",
         "org.apache.hadoop.hive.ql.io.HiveSequenceFileOutputFormat",
         ""
        ],
        [
         "Storage Properties",
         "[serialization.format=1]",
         ""
        ]
       ],
       "datasetInfos": [],
       "dbfsResultPath": null,
       "isJsonSchema": true,
       "metadata": {
        "createTempViewForImplicitDf": true,
        "dataframeName": "_sqldf",
        "executionCount": 5
       },
       "overflow": false,
       "plotOptions": {
        "customPlotOptions": {},
        "displayType": "table",
        "pivotAggregation": null,
        "pivotColumns": null,
        "xColumns": null,
        "yColumns": null
       },
       "removedWidgets": [],
       "schema": [
        {
         "metadata": "{\"comment\":\"name of the column\"}",
         "name": "col_name",
         "type": "\"string\""
        },
        {
         "metadata": "{\"comment\":\"data type of the column\"}",
         "name": "data_type",
         "type": "\"string\""
        },
        {
         "metadata": "{\"comment\":\"comment of the column\"}",
         "name": "comment",
         "type": "\"string\""
        }
       ],
       "type": "table"
      }
     },
     "output_type": "display_data"
    }
   ],
   "source": [
    "%sql\n",
    "-- no physical data is stored, only the view definition\n",
    "describe extended hive_metastore.default.top_10_countries"
   ]
  },
  {
   "cell_type": "code",
   "execution_count": 0,
   "metadata": {
    "application/vnd.databricks.v1+cell": {
     "cellMetadata": {
      "byteLimit": 2048000,
      "implicitDf": true,
      "rowLimit": 10000
     },
     "inputWidgets": {},
     "nuid": "f394fbef-f59f-45fb-8ba6-5ef1aa35b2b8",
     "showTitle": false,
     "tableResultSettingsMap": {},
     "title": ""
    }
   },
   "outputs": [
    {
     "output_type": "display_data",
     "data": {
      "text/html": [
       "<style scoped>\n",
       "  .table-result-container {\n",
       "    max-height: 300px;\n",
       "    overflow: auto;\n",
       "  }\n",
       "  table, th, td {\n",
       "    border: 1px solid black;\n",
       "    border-collapse: collapse;\n",
       "  }\n",
       "  th, td {\n",
       "    padding: 5px;\n",
       "  }\n",
       "  th {\n",
       "    text-align: left;\n",
       "  }\n",
       "</style><div class='table-result-container'><table class='table-result'><thead style='background-color: white'><tr><th>country_name</th><th>continent</th><th>sub_region</th><th>population</th><th>area_km2</th></tr></thead><tbody><tr><td>China</td><td>Asia</td><td>Eastern Asia</td><td>1439323776</td><td>9596961</td></tr><tr><td>India</td><td>Asia</td><td>Southern Asia</td><td>1380004385</td><td>3287263</td></tr><tr><td>United States</td><td>North America</td><td>Northern America</td><td>331002651</td><td>9833520</td></tr><tr><td>Indonesia</td><td>Asia</td><td>South-Eastern Asia</td><td>273523615</td><td>1904569</td></tr><tr><td>Pakistan</td><td>Asia</td><td>Southern Asia</td><td>220892340</td><td>881913</td></tr><tr><td>Brazil</td><td>South America</td><td>South America</td><td>212559417</td><td>8515767</td></tr><tr><td>Nigeria</td><td>Africa</td><td>Western Africa</td><td>206139589</td><td>923768</td></tr><tr><td>Bangladesh</td><td>Asia</td><td>Southern Asia</td><td>164689383</td><td>147570</td></tr><tr><td>Russia</td><td>Europe</td><td>Eastern Europe</td><td>144478050</td><td>17098242</td></tr><tr><td>Mexico</td><td>North America</td><td>Central America</td><td>128932753</td><td>1964375</td></tr></tbody></table></div>"
      ]
     },
     "metadata": {
      "application/vnd.databricks.v1+output": {
       "addedWidgets": {},
       "aggData": [],
       "aggError": "",
       "aggOverflow": false,
       "aggSchema": [],
       "aggSeriesLimitReached": false,
       "aggType": "",
       "arguments": {},
       "columnCustomDisplayInfos": {},
       "data": [
        [
         "China",
         "Asia",
         "Eastern Asia",
         1439323776,
         9596961
        ],
        [
         "India",
         "Asia",
         "Southern Asia",
         1380004385,
         3287263
        ],
        [
         "United States",
         "North America",
         "Northern America",
         331002651,
         9833520
        ],
        [
         "Indonesia",
         "Asia",
         "South-Eastern Asia",
         273523615,
         1904569
        ],
        [
         "Pakistan",
         "Asia",
         "Southern Asia",
         220892340,
         881913
        ],
        [
         "Brazil",
         "South America",
         "South America",
         212559417,
         8515767
        ],
        [
         "Nigeria",
         "Africa",
         "Western Africa",
         206139589,
         923768
        ],
        [
         "Bangladesh",
         "Asia",
         "Southern Asia",
         164689383,
         147570
        ],
        [
         "Russia",
         "Europe",
         "Eastern Europe",
         144478050,
         17098242
        ],
        [
         "Mexico",
         "North America",
         "Central America",
         128932753,
         1964375
        ]
       ],
       "datasetInfos": [],
       "dbfsResultPath": null,
       "isJsonSchema": true,
       "metadata": {
        "createTempViewForImplicitDf": true,
        "dataframeName": "_sqldf",
        "executionCount": 6
       },
       "overflow": false,
       "plotOptions": {
        "customPlotOptions": {},
        "displayType": "table",
        "pivotAggregation": null,
        "pivotColumns": null,
        "xColumns": null,
        "yColumns": null
       },
       "removedWidgets": [],
       "schema": [
        {
         "metadata": "{}",
         "name": "country_name",
         "type": "\"string\""
        },
        {
         "metadata": "{}",
         "name": "continent",
         "type": "\"string\""
        },
        {
         "metadata": "{}",
         "name": "sub_region",
         "type": "\"string\""
        },
        {
         "metadata": "{}",
         "name": "population",
         "type": "\"long\""
        },
        {
         "metadata": "{}",
         "name": "area_km2",
         "type": "\"integer\""
        }
       ],
       "type": "table"
      }
     },
     "output_type": "display_data"
    }
   ],
   "source": [
    "%sql\n",
    "-- querying the view\n",
    "select * from hive_metastore.default.top_10_countries"
   ]
  },
  {
   "cell_type": "code",
   "execution_count": 0,
   "metadata": {
    "application/vnd.databricks.v1+cell": {
     "cellMetadata": {
      "byteLimit": 2048000,
      "implicitDf": true,
      "rowLimit": 10000
     },
     "inputWidgets": {},
     "nuid": "4f248e55-3994-4faa-9fcd-ab9d33a04e7f",
     "showTitle": false,
     "tableResultSettingsMap": {},
     "title": ""
    }
   },
   "outputs": [
    {
     "output_type": "display_data",
     "data": {
      "text/html": [
       "<style scoped>\n",
       "  .table-result-container {\n",
       "    max-height: 300px;\n",
       "    overflow: auto;\n",
       "  }\n",
       "  table, th, td {\n",
       "    border: 1px solid black;\n",
       "    border-collapse: collapse;\n",
       "  }\n",
       "  th, td {\n",
       "    padding: 5px;\n",
       "  }\n",
       "  th {\n",
       "    text-align: left;\n",
       "  }\n",
       "</style><div class='table-result-container'><table class='table-result'><thead style='background-color: white'><tr></tr></thead><tbody></tbody></table></div>"
      ]
     },
     "metadata": {
      "application/vnd.databricks.v1+output": {
       "addedWidgets": {},
       "aggData": [],
       "aggError": "",
       "aggOverflow": false,
       "aggSchema": [],
       "aggSeriesLimitReached": false,
       "aggType": "",
       "arguments": {},
       "columnCustomDisplayInfos": {},
       "data": [],
       "datasetInfos": [],
       "dbfsResultPath": null,
       "isJsonSchema": true,
       "metadata": {
        "dataframeName": null
       },
       "overflow": false,
       "plotOptions": {
        "customPlotOptions": {},
        "displayType": "table",
        "pivotAggregation": null,
        "pivotColumns": null,
        "xColumns": null,
        "yColumns": null
       },
       "removedWidgets": [],
       "schema": [],
       "type": "table"
      }
     },
     "output_type": "display_data"
    }
   ],
   "source": [
    "%sql\n",
    "-- you can reference a table by specifying the underlying storage location\n",
    "create view hive_metastore.default.top_10_countries_2\n",
    "as\n",
    "select * from delta.`dbfs:/user/hive/warehouse/countries` order by population desc limit 10"
   ]
  },
  {
   "cell_type": "code",
   "execution_count": 0,
   "metadata": {
    "application/vnd.databricks.v1+cell": {
     "cellMetadata": {
      "byteLimit": 2048000,
      "implicitDf": true,
      "rowLimit": 10000
     },
     "inputWidgets": {},
     "nuid": "2023f7eb-cf2f-46fc-8840-1ce4fba47720",
     "showTitle": false,
     "tableResultSettingsMap": {},
     "title": ""
    }
   },
   "outputs": [
    {
     "output_type": "display_data",
     "data": {
      "text/html": [
       "<style scoped>\n",
       "  .table-result-container {\n",
       "    max-height: 300px;\n",
       "    overflow: auto;\n",
       "  }\n",
       "  table, th, td {\n",
       "    border: 1px solid black;\n",
       "    border-collapse: collapse;\n",
       "  }\n",
       "  th, td {\n",
       "    padding: 5px;\n",
       "  }\n",
       "  th {\n",
       "    text-align: left;\n",
       "  }\n",
       "</style><div class='table-result-container'><table class='table-result'><thead style='background-color: white'><tr></tr></thead><tbody></tbody></table></div>"
      ]
     },
     "metadata": {
      "application/vnd.databricks.v1+output": {
       "addedWidgets": {},
       "aggData": [],
       "aggError": "",
       "aggOverflow": false,
       "aggSchema": [],
       "aggSeriesLimitReached": false,
       "aggType": "",
       "arguments": {},
       "columnCustomDisplayInfos": {},
       "data": [],
       "datasetInfos": [],
       "dbfsResultPath": null,
       "isJsonSchema": true,
       "metadata": {
        "dataframeName": null
       },
       "overflow": false,
       "plotOptions": {
        "customPlotOptions": {},
        "displayType": "table",
        "pivotAggregation": null,
        "pivotColumns": null,
        "xColumns": null,
        "yColumns": null
       },
       "removedWidgets": [],
       "schema": [],
       "type": "table"
      }
     },
     "output_type": "display_data"
    }
   ],
   "source": [
    "%sql\n",
    "-- dropping the SQL views\n",
    "drop view hive_metastore.default.top_10_countries;\n",
    "drop view hive_metastore.default.top_10_countries_2;"
   ]
  },
  {
   "cell_type": "code",
   "execution_count": 0,
   "metadata": {
    "application/vnd.databricks.v1+cell": {
     "cellMetadata": {
      "byteLimit": 2048000,
      "implicitDf": true,
      "rowLimit": 10000
     },
     "inputWidgets": {},
     "nuid": "5d783a2e-7ab6-4fb5-80aa-72f5c5405b8f",
     "showTitle": false,
     "tableResultSettingsMap": {},
     "title": ""
    }
   },
   "outputs": [
    {
     "output_type": "display_data",
     "data": {
      "text/html": [
       "<style scoped>\n",
       "  .table-result-container {\n",
       "    max-height: 300px;\n",
       "    overflow: auto;\n",
       "  }\n",
       "  table, th, td {\n",
       "    border: 1px solid black;\n",
       "    border-collapse: collapse;\n",
       "  }\n",
       "  th, td {\n",
       "    padding: 5px;\n",
       "  }\n",
       "  th {\n",
       "    text-align: left;\n",
       "  }\n",
       "</style><div class='table-result-container'><table class='table-result'><thead style='background-color: white'><tr></tr></thead><tbody></tbody></table></div>"
      ]
     },
     "metadata": {
      "application/vnd.databricks.v1+output": {
       "addedWidgets": {},
       "aggData": [],
       "aggError": "",
       "aggOverflow": false,
       "aggSchema": [],
       "aggSeriesLimitReached": false,
       "aggType": "",
       "arguments": {},
       "columnCustomDisplayInfos": {},
       "data": [],
       "datasetInfos": [],
       "dbfsResultPath": null,
       "isJsonSchema": true,
       "metadata": {
        "dataframeName": null
       },
       "overflow": false,
       "plotOptions": {
        "customPlotOptions": {},
        "displayType": "table",
        "pivotAggregation": null,
        "pivotColumns": null,
        "xColumns": null,
        "yColumns": null
       },
       "removedWidgets": [],
       "schema": [],
       "type": "table"
      }
     },
     "output_type": "display_data"
    }
   ],
   "source": [
    "%sql\n",
    "-- dropping the table\n",
    "drop table hive_metastore.default.countries"
   ]
  }
 ],
 "metadata": {
  "application/vnd.databricks.v1+notebook": {
   "computePreferences": null,
   "dashboards": [],
   "environmentMetadata": {
    "base_environment": "",
    "client": "1"
   },
   "language": "python",
   "notebookMetadata": {
    "mostRecentlyExecutedCommandWithImplicitDF": {
     "commandId": 179302494061580,
     "dataframes": [
      "_sqldf"
     ]
    },
    "pythonIndentUnit": 4
   },
   "notebookName": "Persistent SQL Views",
   "widgets": {}
  }
 },
 "nbformat": 4,
 "nbformat_minor": 0
}
